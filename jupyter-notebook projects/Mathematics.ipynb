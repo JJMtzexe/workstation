{
 "cells": [
  {
   "cell_type": "code",
   "execution_count": 1,
   "metadata": {},
   "outputs": [
    {
     "name": "stdout",
     "output_type": "stream",
     "text": [
      "media (μ): 44.09\n",
      "varianza (σ2): 771.1419000000003\n",
      "desviación estándar (σ): 27.76944183810687\n",
      "lista: [32, 74, 8, 37, 32, 90, 23, 87, 22, 36, 70, 4, 21, 15, 78, 101, 48, 26, 23, 68, 92, 24, 82, 72, 81, 36, 44, 20, 7, 16, 70, 52, 70, 46, 26, 23, 13, 15, 8, 44, 86, 26, 86, 36, 82, 19, 32, 91, 11, 80, 38, 34, 5, 3, 56, 8, 76, 31, 69, 51, 25, 49, 38, 97, 33, 18, 19, 1, 40, 88, 35, 80, 5, 57, 77, 10, 59, 23, 19, 30, 27, 38, 13, 44, 25, 57, 60, 81, 17, 85, 14, 52, 82, 29, 8, 95, 46, 50, 59, 68]\n"
     ]
    }
   ],
   "source": [
    "import random\n",
    "\n",
    "def media(X):\n",
    "    return sum(X) / len(X)\n",
    "\n",
    "def varianza(X):\n",
    "    return sum([(i - media(X))**2 for i in X]) / len(X)\n",
    "\n",
    "def desviacion_estandar(X):\n",
    "    return varianza(X)**0.5\n",
    "\n",
    "if __name__ == \"__main__\":\n",
    "    X = [random.randint(1,101) for i in range(100)]\n",
    "\n",
    "    print(f'media (μ): {media(X)}')\n",
    "    print(f'varianza (σ2): {varianza(X)}')\n",
    "    print(f'desviación estándar (σ): {desviacion_estandar(X)}')\n",
    "    print(f'lista: {X}')"
   ]
  },
  {
   "cell_type": "code",
   "execution_count": 183,
   "metadata": {},
   "outputs": [
    {
     "name": "stdout",
     "output_type": "stream",
     "text": [
      "Calculando las probabilidades en una mano de 6 cartas, con 100000 iteraciones: \n",
      "\n",
      "Probabilidad de al menos un par: 0.61707\n",
      "Probabilidad de al menos una tercia: 0.04492\n",
      "Probabilidad de al menos un poker: 0.00074\n",
      "\n",
      "Conteo de pares: 74440\n",
      "Conteo de tercias: 4502\n",
      "Conteo de poker: 74\n"
     ]
    }
   ],
   "source": [
    "import random\n",
    "import collections\n",
    "\n",
    "PALO = [\"◆\",\"♥\",\"♣\",\"♠\"]\n",
    "CARTA = [\"A\", \"2\", \"3\", \"4\", \"5\", \"6\", \"7\", \"8\", \"9\", \"10\", \"J\", \"Q\", \"K\"]\n",
    "\n",
    "def crear_baraja():\n",
    "    return [(palo + carta) for palo in PALO for carta in CARTA]\n",
    "\n",
    "def solo_carta(string):\n",
    "    return \"\".join([string[i] if string[i] is n else \"\" for i in range(len(string)) for n in \"A0123456789JQK\"])\n",
    "\n",
    "def solo_carta_array(array = []):\n",
    "    return [\"\".join([string[i] if string[i] is n else \"\" for i in range(len(string)) for n in \"A0123456789JQK\"]) for string in array]\n",
    "\n",
    "def calculo(tamano_de_mano, iteraciones, baraja):\n",
    "    general = []\n",
    "    info = [0,0,0,0,0,0]\n",
    "\n",
    "    for i in range(iteraciones):\n",
    "        samples = solo_carta_array(random.sample(baraja, tamano_de_mano))\n",
    "        general.append(samples)  \n",
    "        for x in range(2, 5):\n",
    "            contador = 0\n",
    "            for sample in samples:\n",
    "                if samples.count(sample) == x:\n",
    "                    info[x+1] += 1/x\n",
    "                    \n",
    "            for sample in samples:\n",
    "                if samples.count(sample) == x:\n",
    "                    info[x-2] += 1\n",
    "                    break\n",
    "\n",
    "            info[x+1] = round(info[x+1])\n",
    "    return info, general\n",
    "\n",
    "def main(tamano_de_mano, iteraciones):\n",
    "    BARAJA = crear_baraja()\n",
    "    print(f'Calculando las probabilidades en una mano de {tamano_de_mano} cartas, con {iteraciones} iteraciones: \\n')\n",
    "    CALCULO = calculo(tamano_de_mano, iteraciones, BARAJA)\n",
    "    print(f'Probabilidad de al menos un par: {(CALCULO[0][0])/iteraciones}')\n",
    "    print(f'Probabilidad de al menos una tercia: {(CALCULO[0][1])/iteraciones}')\n",
    "    print(f'Probabilidad de al menos un poker: {(CALCULO[0][2])/iteraciones}\\n')\n",
    "    \n",
    "    print(f'Conteo de pares: {(CALCULO[0][3])}')\n",
    "    print(f'Conteo de tercias: {(CALCULO[0][4])}')\n",
    "    print(f'Conteo de poker: {(CALCULO[0][5])}')\n",
    "\n",
    "if __name__ == \"__main__\":\n",
    "    main(6, 100000)"
   ]
  },
  {
   "cell_type": "code",
   "execution_count": null,
   "metadata": {},
   "outputs": [],
   "source": [
    "# THINGS TO DO:\n",
    "#   Optimize code\n",
    "#   Create wild cards and it's behavior on code\n",
    "#   Detect: full horse, flush, straight, straight flush and quintuples\n",
    "#   Return an array that counts the individually appearance of a card\n",
    "#   Make a function that counts possible games with wild cards"
   ]
  }
 ],
 "metadata": {
  "kernelspec": {
   "display_name": "Python 3.10.8 64-bit (microsoft store)",
   "language": "python",
   "name": "python3"
  },
  "language_info": {
   "codemirror_mode": {
    "name": "ipython",
    "version": 3
   },
   "file_extension": ".py",
   "mimetype": "text/x-python",
   "name": "python",
   "nbconvert_exporter": "python",
   "pygments_lexer": "ipython3",
   "version": "3.10.8"
  },
  "orig_nbformat": 4,
  "vscode": {
   "interpreter": {
    "hash": "f8ca15d83b6fb72cece3edcf60f6aa40d2cbdeb5c60e0f188ff8c7c65828fd00"
   }
  }
 },
 "nbformat": 4,
 "nbformat_minor": 2
}
