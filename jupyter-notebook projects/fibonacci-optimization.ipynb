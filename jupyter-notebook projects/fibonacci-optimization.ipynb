{
 "cells": [
  {
   "cell_type": "code",
   "execution_count": 3,
   "metadata": {},
   "outputs": [
    {
     "name": "stdout",
     "output_type": "stream",
     "text": [
      "70330367711422815821835254877183549770181269836358732742604905087154537118196933579742249494562611733487750449241765991088186363265450223647106012053374121273867339111198139373125598767690091902245245323403501\n"
     ]
    }
   ],
   "source": [
    "import sys\n",
    "\n",
    "def standard_fibonacci(n):\n",
    "    if n == 0 or n == 1:\n",
    "        return 1\n",
    "    else:\n",
    "        return standard_fibonacci(n - 1) + standard_fibonacci(n - 2)\n",
    "\n",
    "def optimized_fibonacci(n, memo = {}):\n",
    "    if n == 0 or n == 1:\n",
    "        return 1\n",
    "    try:\n",
    "        return memo[n]\n",
    "    except KeyError:\n",
    "        resultado = optimized_fibonacci(n - 1, memo) + optimized_fibonacci(n - 2, memo)\n",
    "        memo[n] = resultado\n",
    "        return resultado\n",
    "\n",
    "if __name__ == \"__main__\":\n",
    "    sys.setrecursionlimit(10002)\n",
    "    print(optimized_fibonacci(int(input(\"Ingresa el número que deseas calcular: \"))))"
   ]
  }
 ],
 "metadata": {
  "kernelspec": {
   "display_name": "Python 3.9.13 ('base')",
   "language": "python",
   "name": "python3"
  },
  "language_info": {
   "codemirror_mode": {
    "name": "ipython",
    "version": 3
   },
   "file_extension": ".py",
   "mimetype": "text/x-python",
   "name": "python",
   "nbconvert_exporter": "python",
   "pygments_lexer": "ipython3",
   "version": "3.9.13"
  },
  "orig_nbformat": 4,
  "vscode": {
   "interpreter": {
    "hash": "0d8dd149deda94e3296e37734e29f8cecb3da58c2fe4031879d81673e7bb476f"
   }
  }
 },
 "nbformat": 4,
 "nbformat_minor": 2
}
