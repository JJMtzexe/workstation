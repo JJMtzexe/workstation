{
 "cells": [
  {
   "cell_type": "code",
   "execution_count": 198,
   "metadata": {},
   "outputs": [
    {
     "name": "stdout",
     "output_type": "stream",
     "text": [
      "Definition: a subdivision of a written work; usually numbered and titled\n"
     ]
    }
   ],
   "source": [
    "from PyDictionary import PyDictionary as dc\n",
    "memo = {}\n",
    "try:\n",
    "    definition = dc.meaning('chapter')\n",
    "    definition = list(definition.values())[0][0]\n",
    "    print(f'Definition: {definition}')\n",
    "\n",
    "except:\n",
    "    definition = None\n",
    "    print('Currently, there are no definitions available for this word')\n"
   ]
  },
  {
   "cell_type": "code",
   "execution_count": 199,
   "metadata": {},
   "outputs": [
    {
     "data": {
      "text/plain": [
       "'give or delegate power or authority to'"
      ]
     },
     "execution_count": 199,
     "metadata": {},
     "output_type": "execute_result"
    }
   ],
   "source": [
    "import random, requests\n",
    "from PyDictionary import PyDictionary as dc\n",
    "\n",
    "random_word = random.choice(list(tuple(requests.get(\n",
    "    \"https://raw.githubusercontent.com/Tom25/Hangman/master/wordlist.txt\").text.split('\\n'))))\n",
    "definition = dc.meaning(random_word)\n",
    "definition = str(list(definition.values())[0][0])[:]\n",
    "definition"
   ]
  },
  {
   "cell_type": "code",
   "execution_count": 200,
   "metadata": {},
   "outputs": [
    {
     "data": {
      "text/plain": [
       "True"
      ]
     },
     "execution_count": 200,
     "metadata": {},
     "output_type": "execute_result"
    }
   ],
   "source": [
    "def validBraces(s):\n",
    "  while '{}' in s or '()' in s or '[]' in s:\n",
    "      s = s.replace('{}', '')\n",
    "      s = s.replace('[]', '')\n",
    "      s = s.replace('()', '')\n",
    "  return s == ''\n",
    "\n",
    "validBraces('{[[[{{(({{}}))}}]]]}')\n"
   ]
  },
  {
   "cell_type": "code",
   "execution_count": 201,
   "metadata": {},
   "outputs": [],
   "source": [
    "def validbraces(string):\n",
    "    while '{}' in string or '()' in string or '[]' in string:\n",
    "        s = s.replace('{}', '')\n",
    "        s = s.replace('[]', '')\n",
    "        s = s.replace('()', '')\n",
    "    return s == ''\n"
   ]
  },
  {
   "cell_type": "code",
   "execution_count": 202,
   "metadata": {},
   "outputs": [
    {
     "name": "stdout",
     "output_type": "stream",
     "text": [
      "['00', 'ff', '17', '34', '01', '03', '07', 'da', 'f4']\n"
     ]
    }
   ],
   "source": [
    "print(list(map(lambda x: f'0{hex(x)[2:]}'[-2:],[0,255,23,52, 1, 3, 7, 218, 500])))"
   ]
  },
  {
   "cell_type": "code",
   "execution_count": 203,
   "metadata": {},
   "outputs": [],
   "source": [
    "#The rgb function is incomplete. Complete it so that passing in RGB decimal values will result in a hexadecimal representation being returned.\n",
    "#Valid decimal values for RGB are 0 - 255. Any values that fall out of that range must be rounded to the closest valid value.\n",
    "\n",
    "#Note: Your answer should always be 6 characters long, the shorthand with 3 will not work here.\n",
    "\n",
    "def rgb(r, g, b):\n",
    "    rgb_code = list(map(lambda x: 0 if x < 0 else 255 if x > 255 else x, [r,g,b]))\n",
    "    return ''.join(list(map(lambda x: f'0{hex(x)[2:]}'[-2:], rgb_code))).upper()\n"
   ]
  },
  {
   "cell_type": "code",
   "execution_count": 204,
   "metadata": {},
   "outputs": [
    {
     "data": {
      "text/plain": [
       "1"
      ]
     },
     "execution_count": 204,
     "metadata": {},
     "output_type": "execute_result"
    }
   ],
   "source": [
    "def is_interesting(number, awesome_phrases):\n",
    "\n",
    "    def is_sequential(num):\n",
    "        arr = [i for i in range(num[0], num[0]+len(num))]\n",
    "        if arr[-1] == 10:\n",
    "            arr[-1] = 0\n",
    "        if num == arr:\n",
    "            return True\n",
    "        else:\n",
    "            return False\n",
    "\n",
    "    def evaluate(num):\n",
    "        arr = [int(i) for i in str(num)]\n",
    "        check_increment = [arr[i] + 1 == arr[i + 1] for i in range(len(arr) - 1)]\n",
    "        arr_inv = arr[::-1]\n",
    "        check_decrement = [arr_inv[i] + 1 == arr_inv[i + 1] for i in range(len(arr_inv) - 1)]\n",
    "\n",
    "        if num > 99:\n",
    "            if int(str(num)[1:]) == 0 or str(num)[::-1] == str(num) or num in awesome_phrases:\n",
    "                return True\n",
    "            \n",
    "            if False not in check_decrement[:-1] and arr_inv[-1] == 0:\n",
    "                return True\n",
    "            \n",
    "            if False not in check_increment[:-1] and arr[-1] == 0 and is_sequential(arr):\n",
    "                return True\n",
    "            \n",
    "            if False not in check_decrement or False not in check_increment:\n",
    "                return True\n",
    "        \n",
    "        else:\n",
    "            return False\n",
    "        \n",
    "    if evaluate(number):\n",
    "        return 2\n",
    "    if evaluate(number + 1) or evaluate(number + 2):\n",
    "        return 1\n",
    "    else:\n",
    "        return 0\n",
    "    \n",
    "    \n",
    "is_interesting(120, [])"
   ]
  },
  {
   "cell_type": "code",
   "execution_count": 205,
   "metadata": {},
   "outputs": [
    {
     "data": {
      "text/plain": [
       "'re'"
      ]
     },
     "execution_count": 205,
     "metadata": {},
     "output_type": "execute_result"
    }
   ],
   "source": [
    "def get_middle(s):\n",
    "    if len(s):\n",
    "        if len(s) % 2:\n",
    "            return s[int((len(s)-1)/2)]\n",
    "        else:\n",
    "            return ''.join([s[int((len(s)-1)/2)], s[int((len(s))/2)]])\n",
    "    \n",
    "get_middle('qrer')"
   ]
  },
  {
   "cell_type": "code",
   "execution_count": 206,
   "metadata": {},
   "outputs": [
    {
     "data": {
      "text/plain": [
       "'5'"
      ]
     },
     "execution_count": 206,
     "metadata": {},
     "output_type": "execute_result"
    }
   ],
   "source": [
    "def get_mid(s):\n",
    "    i = (len(s) - 1) // 2\n",
    "    return s[i:-i] or s\n",
    "\n",
    "get_middle('1234567890')\n",
    "\n",
    "\n",
    "def get_middle(s):\n",
    "    return s[(len(s)-1)//2:len(s)//2+1]\n",
    "\n",
    "get_middle('123456890')"
   ]
  },
  {
   "cell_type": "code",
   "execution_count": 207,
   "metadata": {},
   "outputs": [
    {
     "data": {
      "text/plain": [
       "'   '"
      ]
     },
     "execution_count": 207,
     "metadata": {},
     "output_type": "execute_result"
    }
   ],
   "source": [
    "number = 120\n",
    "def check_increment(num):\n",
    "    sample = '1234567890'\n",
    "    new_num = str(num)\n",
    "    for i in sample:\n",
    "        new_num = new_num.replace(i, ' ')\n",
    "    return new_num\n",
    "        \n",
    "check_increment(number)"
   ]
  },
  {
   "cell_type": "code",
   "execution_count": 208,
   "metadata": {},
   "outputs": [
    {
     "name": "stdout",
     "output_type": "stream",
     "text": [
      "2\n",
      "[1, 2, 0] [False, False] [True, False]\n"
     ]
    }
   ],
   "source": [
    "num = 120\n",
    "arr = [int(i) for i in str(num)]\n",
    "check_increment = [arr[i] + 1 == arr[i + 1] for i in range(len(arr) - 1)]\n",
    "arr2 = arr[::-1]\n",
    "check_decrement = [arr2[i] + 1 == arr2[i + 1] for i in range(len(arr2) - 1)]\n",
    "\n",
    "if False not in check_decrement[:-1] and arr_inv[-1] == 0:\n",
    "    print('1')\n",
    "\n",
    "if False not in check_increment[:-1] and arr[-1] == 0:\n",
    "    print('2')\n",
    "            \n",
    "if False not in check_decrement or False not in check_increment:\n",
    "    print('3')\n",
    "\n",
    "print(arr, check_decrement, check_increment)"
   ]
  },
  {
   "cell_type": "code",
   "execution_count": 209,
   "metadata": {},
   "outputs": [
    {
     "name": "stdout",
     "output_type": "stream",
     "text": [
      "[1, 2, 3]\n"
     ]
    },
    {
     "data": {
      "text/plain": [
       "False"
      ]
     },
     "execution_count": 209,
     "metadata": {},
     "output_type": "execute_result"
    }
   ],
   "source": [
    "n = [1,2,0]\n",
    "\n",
    "\n",
    "def is_sequential(num):\n",
    "    arr = [i for i in range(num[0], num[0]+len(num))]\n",
    "    if arr[-1] == 10:\n",
    "        arr[-1] = 0\n",
    "    if num == arr:\n",
    "        print(arr)\n",
    "        return True\n",
    "    else:\n",
    "        print(arr)\n",
    "        return False\n",
    "    \n",
    "\n",
    "is_sequential(n)"
   ]
  },
  {
   "cell_type": "code",
   "execution_count": 210,
   "metadata": {},
   "outputs": [
    {
     "data": {
      "text/plain": [
       "'0000111110'"
      ]
     },
     "execution_count": 210,
     "metadata": {},
     "output_type": "execute_result"
    }
   ],
   "source": [
    "def fake_bin(x):\n",
    "    num = str(x)\n",
    "    res = []\n",
    "    for i in num:\n",
    "        if int(i) >= 5:\n",
    "            res.append('1')\n",
    "        elif int(i) < 5:\n",
    "            res.append('0')\n",
    "    return ''.join(res)\n",
    "fake_bin(1234567890)\n"
   ]
  },
  {
   "cell_type": "code",
   "execution_count": 220,
   "metadata": {},
   "outputs": [
    {
     "data": {
      "text/plain": [
       "'want'"
      ]
     },
     "execution_count": 220,
     "metadata": {},
     "output_type": "execute_result"
    }
   ],
   "source": [
    "alphabet = 'abcdefghijklmnopqrstuvwxyz'\n",
    "\n",
    "def get_score(s):\n",
    "    return sum([int(i) for i in range(1, len(alphabet)+1) for n in s if alphabet[i - 1] == n])\n",
    "\n",
    "def high(x):\n",
    "    split = [*x.split(' ')]\n",
    "    scores = list(map(lambda eval: get_score(eval), split))\n",
    "    return split[scores.index(max(scores))]\n",
    "\n",
    "high('i want to call an taxi')\n",
    "\n"
   ]
  },
  {
   "cell_type": "code",
   "execution_count": 221,
   "metadata": {},
   "outputs": [
    {
     "data": {
      "text/plain": [
       "-1"
      ]
     },
     "execution_count": 221,
     "metadata": {},
     "output_type": "execute_result"
    }
   ],
   "source": [
    "import numpy as np\n",
    "def is_solved(board: list[list[int]]) -> int:\n",
    "\n",
    "    diagonals: list = [[board[0][0], board[1][1], board[2][2]], [board[0][2], board[1][1], board[2][0]]]\n",
    "    [board.append(list(r)) for r in np.rot90(board)]\n",
    "    [board.append(r) for r in diagonals]\n",
    "\n",
    "    def eval_row(row: list[int]) -> int:\n",
    "        sorted_list: list = sorted(row)\n",
    "        return row[0] if sorted_list == sorted_list[::-1] else -1 if 0 in sorted_list else 0\n",
    "    \n",
    "    x: list = list(map(eval_row, (row for row in board)))\n",
    "    return (1 if 1 in x else 2 if 2 in x else 0 if sum(x) == 0 else -1)\n",
    "\n",
    "board = [[1, 0, 2],\n",
    "         [2, 2, 1],\n",
    "         [1, 2, 1]]\n",
    "\n",
    "is_solved(board)"
   ]
  },
  {
   "cell_type": "code",
   "execution_count": 222,
   "metadata": {},
   "outputs": [
    {
     "data": {
      "text/plain": [
       "7"
      ]
     },
     "execution_count": 222,
     "metadata": {},
     "output_type": "execute_result"
    }
   ],
   "source": [
    "def count_smileys(arr: list[str]) -> int:\n",
    "    count: int = 0\n",
    "\n",
    "    for val in arr:\n",
    "        if ':' == val[0] or ';' == val[0]:\n",
    "            if 'D' == val[-1] or ')' == val[-1]:\n",
    "                if len(val) == 2:\n",
    "                    count += 1\n",
    "                    \n",
    "                elif '-' == val[1] or '~' == val[1]:\n",
    "                    count += 1\n",
    "\n",
    "    return count\n",
    "\n",
    "count_smileys([':D',':~)',';~D',':)',':)',':(',':D',':O',':;',';]', ':[', ';*', ':$', ';-D', 'dwvw'])"
   ]
  },
  {
   "cell_type": "code",
   "execution_count": 223,
   "metadata": {},
   "outputs": [],
   "source": [
    "def likes(names: list[str]) -> str:\n",
    "    count: int = len(names)\n",
    "    return {\n",
    "        0: 'no one likes this',\n",
    "        1: '{} likes this',\n",
    "        2: '{} and {} like this',\n",
    "        3: '{}, {} and {} like this',\n",
    "        4: '{}, {} and {others} others like this'\n",
    "    }[min(4, count)].format(*names[:3], others = count - 2)"
   ]
  },
  {
   "cell_type": "code",
   "execution_count": 224,
   "metadata": {},
   "outputs": [
    {
     "data": {
      "text/plain": [
       "3"
      ]
     },
     "execution_count": 224,
     "metadata": {},
     "output_type": "execute_result"
    }
   ],
   "source": [
    "from typing import Callable\n",
    "def sum_two_smallest_numbers(numbers: list[int]) -> int:\n",
    "    numbers = sorted(numbers)\n",
    "\n",
    "    pop_smallest: callable[list[int], int] = lambda arr: arr.pop(arr.index(min(arr)))\n",
    "    return pop_smallest(numbers) + pop_smallest(numbers)\n",
    "\n",
    "#OR\n",
    "\n",
    "def sum_two_smallest_numbers(numbers: list[int]) -> int:\n",
    "    return sum(sorted(numbers)[:2])\n",
    "\n",
    "#OR\n",
    "\n",
    "sum_two_smallest_numbers: Callable[[list[int]], int] = lambda numbers: sum(sorted(numbers)[:2])\n",
    "\n",
    "sum_two_smallest_numbers([1,2,3,4,5])"
   ]
  },
  {
   "cell_type": "code",
   "execution_count": 229,
   "metadata": {},
   "outputs": [
    {
     "data": {
      "text/plain": [
       "0"
      ]
     },
     "execution_count": 229,
     "metadata": {},
     "output_type": "execute_result"
    }
   ],
   "source": [
    "import numpy as np\n",
    "\n",
    "def persistence(n: int) -> int:\n",
    "    count: int  = 0\n",
    "    while len(arr := [int(i) for i in str(n)]) > 1:\n",
    "        n = np.prod(arr)\n",
    "        count += 1\n",
    "    return count\n",
    "        \n",
    "    \n",
    "persistence(0)\n"
   ]
  },
  {
   "cell_type": "code",
   "execution_count": 290,
   "metadata": {},
   "outputs": [
    {
     "data": {
      "text/plain": [
       "'C'"
      ]
     },
     "execution_count": 290,
     "metadata": {},
     "output_type": "execute_result"
    }
   ],
   "source": [
    "def get_grade(s1, s2, s3):\n",
    "    avr = sum([s1, s2, s3])/3\n",
    "\n",
    "    d = {\n",
    "        'A': range(90, 100 + 1),\n",
    "        'B': range(80, 90),\n",
    "        'C': range(70, 80),\n",
    "        'D': range(60, 70),\n",
    "        'F': range(0, 60)\n",
    "    }\n",
    "    result = [key for key in d if int(avr) in d[key]]\n",
    "    return result[0]\n",
    "\n",
    "get_grade(60,79,87)\n",
    "\n"
   ]
  },
  {
   "cell_type": "code",
   "execution_count": 286,
   "metadata": {},
   "outputs": [
    {
     "name": "stdout",
     "output_type": "stream",
     "text": [
      "range(90, 101)\n",
      "range(80, 90)\n",
      "range(70, 80)\n",
      "range(60, 70)\n",
      "range(0, 60)\n"
     ]
    }
   ],
   "source": [
    "d = {\n",
    "        'A': range(90, 100 + 1),\n",
    "        'B': range(80, 90),\n",
    "        'C': range(70, 80),\n",
    "        'D': range(60, 70),\n",
    "        'F': range(0, 60)\n",
    "    }\n",
    "\n",
    "for key in d:\n",
    "    print(d[key])"
   ]
  },
  {
   "cell_type": "code",
   "execution_count": 378,
   "metadata": {},
   "outputs": [
    {
     "data": {
      "text/plain": [
       "['*']"
      ]
     },
     "execution_count": 378,
     "metadata": {},
     "output_type": "execute_result"
    }
   ],
   "source": [
    "def tower_builder(n_floors: int) -> list[str]:\n",
    "    arr: list[str] = []\n",
    "    for i in (generator := list(range(1, n_floors + 1))):\n",
    "        arr.append(f'{\" \" * (generator[-i]-1)}{\"*\" * (2 * i - 1)}{\" \" * (generator[-i]-1)}')\n",
    "    return arr\n",
    "tower_builder(1)"
   ]
  }
 ],
 "metadata": {
  "kernelspec": {
   "display_name": "Python 3.8.12 ('base')",
   "language": "python",
   "name": "python3"
  },
  "language_info": {
   "codemirror_mode": {
    "name": "ipython",
    "version": 3
   },
   "file_extension": ".py",
   "mimetype": "text/x-python",
   "name": "python",
   "nbconvert_exporter": "python",
   "pygments_lexer": "ipython3",
   "version": "3.11.4"
  },
  "orig_nbformat": 4,
  "vscode": {
   "interpreter": {
    "hash": "e06ff7da33dc9620448857a90ad8b5f428f0d573d205a934d2841c8aee45ea32"
   }
  }
 },
 "nbformat": 4,
 "nbformat_minor": 2
}
