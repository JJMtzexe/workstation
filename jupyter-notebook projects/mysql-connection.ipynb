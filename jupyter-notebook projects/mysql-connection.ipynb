{
 "cells": [
  {
   "cell_type": "markdown",
   "metadata": {},
   "source": [
    "<h3>It's important to have the following modules to perform magic commands:</h3>\n",
    "\n",
    "- SQL\n",
    "- PymySQL"
   ]
  },
  {
   "cell_type": "code",
   "execution_count": null,
   "metadata": {},
   "outputs": [],
   "source": [
    "# OPEN CONNECTION\n",
    "user = 'root'\n",
    "host = 'localhost'\n",
    "password = '1234567890'\n",
    "database = ''\n",
    "\n",
    "%load_ext sql\n",
    "%sql mysql+pymysql://$user:$password@$host/$database"
   ]
  },
  {
   "cell_type": "code",
   "execution_count": 3,
   "metadata": {},
   "outputs": [
    {
     "name": "stdout",
     "output_type": "stream",
     "text": [
      "No sessions to close\n"
     ]
    }
   ],
   "source": [
    "#* CLOSE CONNECTION\n",
    "def close():\n",
    "    try:\n",
    "        # save the available connections to a dictionary\n",
    "        connection_dict = %sql --connections \n",
    "\n",
    "        # get the connection string from the dictionary\n",
    "        connection_string = list(connection_dict.keys())[0]\n",
    "\n",
    "        # get the connection object from the dictionary using the connection string\n",
    "        connection_object = connection_dict[connection_string]\n",
    "\n",
    "        # close the connection using the connection object's url attribute\n",
    "        _: list[str] = list(connection_dict)[0]\n",
    "    \n",
    "        %sql --close $connection_object.url\n",
    "        print(f'Session {_} has been closed')\n",
    "        \n",
    "    except Exception as e:\n",
    "        print(f'No sessions to close')\n",
    "        \n",
    "close()"
   ]
  }
 ],
 "metadata": {
  "kernelspec": {
   "display_name": "base",
   "language": "python",
   "name": "python3"
  },
  "language_info": {
   "codemirror_mode": {
    "name": "ipython",
    "version": 3
   },
   "file_extension": ".py",
   "mimetype": "text/x-python",
   "name": "python",
   "nbconvert_exporter": "python",
   "pygments_lexer": "ipython3",
   "version": "3.11.5"
  },
  "orig_nbformat": 4
 },
 "nbformat": 4,
 "nbformat_minor": 2
}
