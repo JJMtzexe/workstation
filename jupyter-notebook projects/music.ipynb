{
 "cells": [
  {
   "cell_type": "code",
   "execution_count": 51,
   "metadata": {},
   "outputs": [],
   "source": [
    "import numpy as np\n",
    "import pandas as pd\n",
    "import inspect"
   ]
  },
  {
   "cell_type": "code",
   "execution_count": null,
   "metadata": {},
   "outputs": [],
   "source": [
    "db = pd.read_csv(\"database/spotify1921-2020.csv\")\n",
    "db"
   ]
  },
  {
   "cell_type": "code",
   "execution_count": null,
   "metadata": {},
   "outputs": [],
   "source": [
    "sortBy(db, [\"name\", \"year\", \"popularity\"], \"popularity\", ascending=False).head(10)\n",
    "sortBy(db, [\"name\", \"year\", \"duration_ms\"], \"duration_ms\", ascending=False).head(10)"
   ]
  },
  {
   "cell_type": "code",
   "execution_count": 54,
   "metadata": {},
   "outputs": [
    {
     "name": "stdout",
     "output_type": "stream",
     "text": [
      "def sortBy(database, columns, sort_column, ascending = True):\n",
      "    return database[columns].sort_values(by = sort_column, ascending = ascending)\n",
      "\n"
     ]
    }
   ],
   "source": [
    "print(inspect.getsource(sortBy))"
   ]
  },
  {
   "cell_type": "code",
   "execution_count": null,
   "metadata": {},
   "outputs": [],
   "source": [
    "import pandas as pd\n",
    "\n",
    "# Importar la base de datos guardada dentro de una carpeta llamada \"database\"\n",
    "# El nombre del archivo \"spotify1921-2020.csv\"\n",
    "db = pd.read_csv(\"database/spotify1921-2020.csv\")\n",
    "\n",
    "# Se crea la función sortBy para no repetir código\n",
    "def sortBy(database, columns, sort_column, ascending=True):\n",
    "    return database[columns].sort_values(by=sort_column, ascending=ascending)\n",
    "\n",
    "# Se eligen las columnas \"artists\", \"name\", \"year\", y \"duration_ms\"\n",
    "# Ordenar por popularidad descendiente:\n",
    "print(f'popularidad ascendiente: {sortBy(db, [\"artists\", \"name\", \"year\", \"duration_ms\", \"popularity\"], \"popularity\", ascending=False).head(10)}\\n')\n",
    "\n",
    "# Ordenar por duración ascendiente:\n",
    "print(f'duración ascendiente: {sortBy(db, [\"artists\", \"name\", \"year\", \"duration_ms\", \"popularity\"], \"duration_ms\").head(10)}\\n')\n",
    "\n",
    "# Ordenar por año ascendiente:\n",
    "print(f'año ascendiente: {sortBy(db, [\"artists\", \"name\", \"year\", \"duration_ms\"], \"year\").head(10)}\\n')"
   ]
  }
 ],
 "metadata": {
  "kernelspec": {
   "display_name": "Python 3.8.9 64-bit",
   "language": "python",
   "name": "python3"
  },
  "language_info": {
   "codemirror_mode": {
    "name": "ipython",
    "version": 3
   },
   "file_extension": ".py",
   "mimetype": "text/x-python",
   "name": "python",
   "nbconvert_exporter": "python",
   "pygments_lexer": "ipython3",
   "version": "3.8.9"
  },
  "orig_nbformat": 4,
  "vscode": {
   "interpreter": {
    "hash": "31f2aee4e71d21fbe5cf8b01ff0e069b9275f58929596ceb00d14d90e3e16cd6"
   }
  }
 },
 "nbformat": 4,
 "nbformat_minor": 2
}
